{
 "cells": [
  {
   "cell_type": "markdown",
   "id": "9a55356f67af24cc",
   "metadata": {},
   "source": [
    "# Symbol Detection\n",
    "\n",
    "dataset: https://www.kaggle.com/datasets/xainano/handwrittenmathsymbols\n",
    "\n",
    "sample model: https://github.com/OdyAsh/Handwritten-M2L/blob/main/model.ipynb"
   ]
  },
  {
   "cell_type": "code",
   "execution_count": null,
   "id": "initial_id",
   "metadata": {
    "collapsed": true,
    "jupyter": {
     "is_executing": true
    }
   },
   "outputs": [],
   "source": [
    "import os\n",
    "\n",
    "import cv2\n",
    "import pickle\n",
    "import numpy as np\n",
    "from functools import cmp_to_key\n",
    "\n",
    "from keras.src.layers import BatchNormalization\n",
    "from keras.src.ops import shape\n",
    "from sklearn.model_selection import train_test_split\n",
    "import tensorflow as tf\n",
    "import keras\n",
    "from keras import layers\n",
    "from keras import ops   \n",
    "import matplotlib.pyplot as plt"
   ]
  },
  {
   "cell_type": "code",
   "execution_count": 3,
   "id": "2b7ae09e0fd3a168",
   "metadata": {
    "ExecuteTime": {
     "end_time": "2024-09-12T10:21:49.661600Z",
     "start_time": "2024-09-12T10:21:49.656869Z"
    }
   },
   "outputs": [],
   "source": [
    "dic = {\n",
    "    \"-\": r\"-\",\n",
    "    \"(\": r\"(\",\n",
    "    \")\": r\")\",\n",
    "    \"+\": r\"+\",\n",
    "    \"=\": r\"=\",\n",
    "    \"0\": r\"0\",\n",
    "    \"1\": r\"1\",\n",
    "    \"2\": r\"2\",\n",
    "    \"3\": r\"3\",\n",
    "    \"4\": r\"4\",\n",
    "    \"5\": r\"5\",\n",
    "    \"6\": r\"6\",\n",
    "    \"7\": r\"7\",\n",
    "    \"8\": r\"8\",\n",
    "    \"9\": r\"9\",\n",
    "    \"geq\": r\"\\geq\",\n",
    "    \"gt\": r\">\",\n",
    "    \"i\": r\"i\",\n",
    "    \"in\": r\"\\in\",\n",
    "    \"int\": r\"\\int\",\n",
    "    \"j\": r\"j\",\n",
    "    \"leq\": r\"\\le\",\n",
    "    \"lt\": r\"<\",\n",
    "    \"neq\": r\"\\neq\",\n",
    "    \"pi\": r\"\\Pi\",\n",
    "    \"sum\": r\"\\sum\",\n",
    "    \"theta\": r\"\\theta\",\n",
    "    \"times\": r\"\\times\",\n",
    "    \"w\": r\"w\",\n",
    "    \"X\": r\"\\X\",\n",
    "    \"y\": r\"y\",\n",
    "    \"z\": r\"z\"}\n"
   ]
  },
  {
   "cell_type": "code",
   "execution_count": 108,
   "id": "1e4758b0af0cbca3",
   "metadata": {
    "ExecuteTime": {
     "end_time": "2024-09-10T22:37:12.270255Z",
     "start_time": "2024-09-10T22:37:02.558102Z"
    }
   },
   "outputs": [],
   "source": [
    "class_size = 1000\n",
    "\n",
    "def loadData(DataDir):\n",
    "  imgs = []\n",
    "  labels = []\n",
    "  \n",
    "  \n",
    "  for k, v in dic.items():\n",
    "    path = os.path.join(DataDir, k)\n",
    "    c = 0 \n",
    "    for imgName in os.listdir(path):\n",
    "      try:\n",
    "        img = cv2.imread(os.path.join(path, imgName), cv2.COLOR_BGR2GRAY)\n",
    "        imgs.append(img)\n",
    "        labels.append(v)\n",
    "        \n",
    "        c+=1\n",
    "        if c>class_size:\n",
    "            break\n",
    "\n",
    "      except Exception as e:\n",
    "        print(e)\n",
    "\n",
    "  return imgs, labels\n",
    "\n",
    "\n",
    "imgs, labels = loadData(r\"C:\\Users\\Benjamin\\Projects\\NEAgit\\HandMtoLat\\handwrittenSymbolDetection.ipynb\")\n",
    "\n"
   ]
  },
  {
   "cell_type": "code",
   "execution_count": 20,
   "id": "2fd06b6be66b1d20",
   "metadata": {
    "ExecuteTime": {
     "end_time": "2024-09-10T21:05:58.149717Z",
     "start_time": "2024-09-10T21:05:54.716775Z"
    }
   },
   "outputs": [],
   "source": [
    "\n",
    "with open(\"x_symbols.pickle\", 'wb') as f:\n",
    "   pickle.dump(imgs, f)\n",
    "with open(\"y_latex.pickle\", 'wb') as f:\n",
    "   pickle.dump(labels, f)"
   ]
  },
  {
   "cell_type": "code",
   "execution_count": 4,
   "id": "79f2ff7efda2b74d",
   "metadata": {
    "ExecuteTime": {
     "end_time": "2024-09-12T10:22:00.336544Z",
     "start_time": "2024-09-12T10:21:59.061007Z"
    }
   },
   "outputs": [],
   "source": [
    "\n",
    "# Open the file in binary read mode\n",
    "with open('x_symbols.pickle', 'rb') as file:\n",
    "    # Deserialize the dataset object from the file\n",
    "    imgs = pickle.load(file)\n",
    "with open('y_latex.pickle', 'rb') as file:\n",
    "    labels = pickle.load(file)"
   ]
  },
  {
   "cell_type": "code",
   "execution_count": 5,
   "id": "454fdd1234020ae3",
   "metadata": {
    "ExecuteTime": {
     "end_time": "2024-09-12T10:22:02.778485Z",
     "start_time": "2024-09-12T10:22:02.636873Z"
    }
   },
   "outputs": [],
   "source": [
    "latexToNums = {k: v for v, k in enumerate(np.unique(labels))}\n",
    "numsToLatex = {v: k for v, k in enumerate(np.unique(labels))}"
   ]
  },
  {
   "cell_type": "code",
   "execution_count": 6,
   "id": "2ad5686b731133d8",
   "metadata": {
    "ExecuteTime": {
     "end_time": "2024-09-12T10:22:05.430680Z",
     "start_time": "2024-09-12T10:22:05.132876Z"
    }
   },
   "outputs": [],
   "source": [
    "x_train, x_test, y_train, y_test = train_test_split(imgs, labels, test_size = 0.33, stratify=labels, random_state=42)"
   ]
  },
  {
   "cell_type": "code",
   "execution_count": 8,
   "id": "1d660b113f7aef4d",
   "metadata": {
    "ExecuteTime": {
     "end_time": "2024-09-12T10:22:15.248856Z",
     "start_time": "2024-09-12T10:22:10.199131Z"
    }
   },
   "outputs": [
    {
     "name": "stdout",
     "output_type": "stream",
     "text": [
      "x_train shape: (174850, 45, 45, 1)\n",
      "174850 train samples\n",
      "86121 test samples\n",
      "y_train_cat shape: (174850, 32)\n"
     ]
    }
   ],
   "source": [
    "\n",
    "input_shape = (45, 45, 1) \n",
    "num_classes = 32 \n",
    "\n",
    "x_train, x_test, y_train, y_test = train_test_split(imgs, labels, test_size=0.33, stratify=labels, random_state=42)\n",
    "\n",
    "\n",
    "y_train_nums = [latexToNums[latex] for latex in y_train]\n",
    "y_test_nums = [latexToNums[latex] for latex in y_test]\n",
    "\n",
    "# Convert data into np arrays\n",
    "x_train = np.array(x_train)\n",
    "x_test = np.array(x_test)\n",
    "\n",
    "# Scale images to the [0, 1] range\n",
    "x_train = x_train.astype(\"float32\") / 255\n",
    "x_test = x_test.astype(\"float32\") / 255\n",
    "\n",
    "# Make sure images have shape (28, 28, 1)\n",
    "x_train = np.expand_dims(x_train, -1)\n",
    "x_test = np.expand_dims(x_test, -1)\n",
    "\n",
    "print(\"x_train shape:\", x_train.shape)\n",
    "print(x_train.shape[0], \"train samples\")\n",
    "print(x_test.shape[0], \"test samples\")\n",
    "\n",
    "\n",
    "# convert class vectors to binary class matrices\n",
    "y_train_nums = [latexToNums[latex] for latex in y_train]\n",
    "y_test_nums = [latexToNums[latex] for latex in y_test]\n",
    "\n",
    "y_train_cat = keras.utils.to_categorical(y_train_nums, num_classes)\n",
    "y_test_cat = keras.utils.to_categorical(y_test_nums, num_classes)\n",
    "\n",
    "print(\"y_train_cat shape:\", y_train_cat.shape)"
   ]
  },
  {
   "cell_type": "code",
   "execution_count": 9,
   "id": "dc97295a25692252",
   "metadata": {
    "ExecuteTime": {
     "end_time": "2024-09-12T10:22:22.022373Z",
     "start_time": "2024-09-12T10:22:22.015254Z"
    }
   },
   "outputs": [
    {
     "data": {
      "text/plain": [
       "(numpy.ndarray, numpy.ndarray, list, list)"
      ]
     },
     "execution_count": 9,
     "metadata": {},
     "output_type": "execute_result"
    }
   ],
   "source": [
    "type(x_train), type(x_test), type(y_train_nums), type(y_test_nums)"
   ]
  },
  {
   "cell_type": "code",
   "execution_count": 10,
   "id": "daf52622bbb35f38",
   "metadata": {
    "ExecuteTime": {
     "end_time": "2024-09-12T10:22:24.301149Z",
     "start_time": "2024-09-12T10:22:23.990175Z"
    }
   },
   "outputs": [],
   "source": [
    "model = keras.Sequential(\n",
    "    \n",
    "    [\n",
    "        keras.Input(shape=input_shape),\n",
    "        layers.Conv2D(32, kernel_size=(3, 3), activation=\"relu\"),\n",
    "        layers.MaxPooling2D(pool_size=(2, 2)),\n",
    "        layers.Conv2D(64, kernel_size=(3, 3), activation=\"relu\"),\n",
    "        layers.MaxPooling2D(pool_size=(2, 2)),\n",
    "        layers.Flatten(),\n",
    "        layers.Dropout(0.5),\n",
    "        layers.Dense(num_classes, activation=\"softmax\"),\n",
    "    ]\n",
    ")\n"
   ]
  },
  {
   "cell_type": "code",
   "execution_count": null,
   "id": "3b8d65fd54a25b1a",
   "metadata": {
    "ExecuteTime": {
     "end_time": "2024-09-10T22:39:37.134684Z",
     "start_time": "2024-09-10T22:39:37.119224Z"
    }
   },
   "outputs": [],
   "source": [
    "model.summary()"
   ]
  },
  {
   "cell_type": "code",
   "execution_count": null,
   "id": "101d0cae54003f42",
   "metadata": {
    "ExecuteTime": {
     "end_time": "2024-09-12T10:22:42.525306Z",
     "start_time": "2024-09-12T10:22:41.537450Z"
    }
   },
   "outputs": [],
   "source": [
    "plt.imshow(x_test[0])\n",
    "print(y_test[0])\n",
    "\n",
    "print(model.predict(x_test[0].expandd))"
   ]
  },
  {
   "cell_type": "code",
   "execution_count": null,
   "id": "7a7a6c593a8a586d",
   "metadata": {
    "ExecuteTime": {
     "end_time": "2024-09-12T10:29:54.853795Z",
     "start_time": "2024-09-12T10:22:53.684523Z"
    }
   },
   "outputs": [],
   "source": [
    "batch_size = 128\n",
    "epochs =15 \n",
    "\n",
    "model.compile(loss=\"categorical_crossentropy\", optimizer=\"adam\", metrics=[\"accuracy\"])\n",
    "history = model.fit(x_train, y_train_cat, batch_size=batch_size, epochs=epochs, validation_split=0.1)\n",
    "\n",
    "print(history.history.keys())"
   ]
  },
  {
   "cell_type": "code",
   "execution_count": null,
   "id": "129171163c5cec5f",
   "metadata": {
    "ExecuteTime": {
     "end_time": "2024-09-12T10:29:58.144137Z",
     "start_time": "2024-09-12T10:29:57.875396Z"
    }
   },
   "outputs": [],
   "source": [
    "\n",
    "plt.plot(history.history['accuracy'])\n",
    "plt.plot(history.history['val_accuracy'])\n",
    "plt.title('model accuracy')\n",
    "plt.ylabel('accuracy')\n",
    "plt.xlabel('epoch')\n",
    "plt.legend(['train', 'test'], loc='upper left')\n",
    "plt.show()\n",
    "\n",
    "# summarize history for loss\n",
    "plt.plot(history.history['loss'])\n",
    "plt.plot(history.history['val_loss'])\n",
    "plt.title('model loss')\n",
    "plt.ylabel('loss')\n",
    "plt.xlabel('epoch')\n",
    "plt.legend(['train', 'test'], loc='upper left')\n",
    "plt.show()"
   ]
  },
  {
   "cell_type": "code",
   "execution_count": null,
   "id": "e3c3932e14cfb9fe",
   "metadata": {
    "ExecuteTime": {
     "end_time": "2024-09-12T11:01:18.313911Z",
     "start_time": "2024-09-12T11:01:09.757765Z"
    }
   },
   "outputs": [],
   "source": [
    "from sklearn.metrics import accuracy_score\n",
    "import random\n",
    "\n",
    "# score = model.evaluate(x_test, y_test_cat, verbose=0)\n",
    "# print(\"Test loss:\", score[0])\n",
    "# print(\"Test accuracy:\", score[1])\n",
    "\n",
    "#testing match between data and labels\n",
    "plt.figure(figsize=(10, 10))\n",
    "\n",
    "n=100\n",
    "plt.figure(figsize=(10, 10))\n",
    "random_int = random.randint(1, 50000)\n",
    "\n",
    "for i in range(0, n):\n",
    "    ax = plt.subplot(10, 10, i + 1)\n",
    "    \n",
    "    y_pred = model.predict(tf.expand_dims(x_test[i], axis=0))\n",
    "    plt.imshow(x_test[i])\n",
    "    plt.title(numsToLatex[y_pred.argmax(axis=-1)[0]])\n",
    "    plt.axis('off')\n",
    "    \n",
    "\n",
    "\n"
   ]
  },
  {
   "cell_type": "code",
   "execution_count": 36,
   "id": "39f9bba710a8f90e",
   "metadata": {
    "ExecuteTime": {
     "end_time": "2024-09-12T10:46:18.191853Z",
     "start_time": "2024-09-12T10:46:18.086843Z"
    }
   },
   "outputs": [],
   "source": [
    "model.save(r'C:\\Users\\Benjamin\\Projects\\NEA\\models.keras')"
   ]
  }
 ],
 "metadata": {
  "kernelspec": {
   "display_name": "Python 3",
   "language": "python",
   "name": "python3"
  },
  "language_info": {
   "codemirror_mode": {
    "name": "ipython",
    "version": 2
   },
   "file_extension": ".py",
   "mimetype": "text/x-python",
   "name": "python",
   "nbconvert_exporter": "python",
   "pygments_lexer": "ipython2",
   "version": "2.7.6"
  }
 },
 "nbformat": 4,
 "nbformat_minor": 5
}
