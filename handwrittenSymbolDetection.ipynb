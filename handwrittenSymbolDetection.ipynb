{
 "cells": [
  {
   "cell_type": "markdown",
   "id": "9a55356f67af24cc",
   "metadata": {},
   "source": [
    "# Symbol Detection\n",
    "\n",
    "dataset: https://www.kaggle.com/datasets/xainano/handwrittenmathsymbols\n",
    "\n",
    "sample model: https://github.com/OdyAsh/Handwritten-M2L/blob/main/model.ipynb"
   ]
  },
  {
   "cell_type": "code",
   "execution_count": 1,
   "id": "initial_id",
   "metadata": {
    "collapsed": true,
    "jupyter": {
     "is_executing": true
    }
   },
   "outputs": [],
   "source": [
    "import os\n",
    "import random \n",
    "\n",
    "import cv2\n",
    "import pickle\n",
    "import numpy as np\n",
    "from functools import cmp_to_key\n",
    "\n",
    "from keras.src.layers import BatchNormalization\n",
    "from keras.src.ops import shape\n",
    "from sklearn.model_selection import train_test_split\n",
    "import tensorflow as tf\n",
    "import keras\n",
    "from keras import layers\n",
    "from keras import ops   \n",
    "import matplotlib.pyplot as plt"
   ]
  },
  {
   "cell_type": "code",
   "execution_count": 2,
   "id": "2b7ae09e0fd3a168",
   "metadata": {
    "ExecuteTime": {
     "end_time": "2024-09-12T10:21:49.661600Z",
     "start_time": "2024-09-12T10:21:49.656869Z"
    }
   },
   "outputs": [],
   "source": [
    "#converts file names to latex\n",
    "dic = {\n",
    "    \"-\": r\"-\",\n",
    "    \"(\": r\"(\",\n",
    "    \")\": r\")\",\n",
    "    \"+\": r\"+\",\n",
    "    \"=\": r\"=\",\n",
    "    \"times\": r\"\\times\",\n",
    "    \"0\": r\"0\",\n",
    "    \"1\": r\"1\",\n",
    "    \"2\": r\"2\",\n",
    "    \"3\": r\"3\",\n",
    "    \"4\": r\"4\",\n",
    "    \"5\": r\"5\",\n",
    "    \"6\": r\"6\",\n",
    "    \"7\": r\"7\",\n",
    "    \"8\": r\"8\",\n",
    "    \"9\": r\"9\",\n",
    "    \"div\": r\"\\div\", \n",
    "    \"y\": r\"y\", \n",
    "    \"X\": r\"x\", \n",
    "    \"C\": r\"c\", \n",
    "    \"M\": r\"m\"\n",
    "}\n",
    "\n",
    "\n"
   ]
  },
  {
   "cell_type": "code",
   "execution_count": 3,
   "id": "1e4758b0af0cbca3",
   "metadata": {
    "ExecuteTime": {
     "end_time": "2024-09-10T22:37:12.270255Z",
     "start_time": "2024-09-10T22:37:02.558102Z"
    }
   },
   "outputs": [],
   "source": [
    "# set class size\n",
    "class_size = 2000\n",
    "\n",
    "# loads and splits data into imgs and labels \n",
    "# inputs: Data - directory where all the class folders are stored\n",
    "#         Dic - dictionary of all the classes that are to be classified \n",
    "#\n",
    "# outputs: imgs - \n",
    "\n",
    "def loadData(DataDir, class_size, class_dic):\n",
    "  imgs = []\n",
    "  labels = []\n",
    "  \n",
    "  # iterate through each symbol and extract all files \n",
    "  for k, v in class_dic.items():\n",
    "    path = os.path.join(DataDir, k)\n",
    "    c=0 \n",
    "    for imgName in os.listdir(path):\n",
    "      try:\n",
    "        img = cv2.imread(os.path.join(path, imgName), cv2.COLOR_BGR2GRAY)       \n",
    "        imgs.append(img)\n",
    "        labels.append(v)\n",
    "        \n",
    "        # stop adding when desired class size is reached\n",
    "        c+=1\n",
    "        if c>=class_size:\n",
    "            break\n",
    "\n",
    "      except Exception as e:\n",
    "        print(e)\n",
    "\n",
    "  return imgs, labels\n",
    "\n",
    "\n",
    "imgs, labels = loadData(r\"input\\extracted_images\", 1000, dic)\n",
    "\n"
   ]
  },
  {
   "cell_type": "code",
   "execution_count": 4,
   "id": "2fd06b6be66b1d20",
   "metadata": {
    "ExecuteTime": {
     "end_time": "2024-09-10T21:05:58.149717Z",
     "start_time": "2024-09-10T21:05:54.716775Z"
    }
   },
   "outputs": [],
   "source": [
    "\n",
    "# serialise for faster opening \n",
    "with open(\"x_symbols.pickle\", 'wb') as f:\n",
    "   pickle.dump(imgs, f)\n",
    "with open(\"y_latex.pickle\", 'wb') as f:\n",
    "   pickle.dump(labels, f)"
   ]
  },
  {
   "cell_type": "code",
   "execution_count": 5,
   "id": "79f2ff7efda2b74d",
   "metadata": {
    "ExecuteTime": {
     "end_time": "2024-09-12T10:22:00.336544Z",
     "start_time": "2024-09-12T10:21:59.061007Z"
    }
   },
   "outputs": [],
   "source": [
    "\n",
    "# Open the file in binary read mode\n",
    "with open('x_symbols.pickle', 'rb') as file:\n",
    "    # Deserialize the dataset object from the file\n",
    "    imgs = pickle.load(file)\n",
    "with open('y_latex.pickle', 'rb') as file:\n",
    "    labels = pickle.load(file)"
   ]
  },
  {
   "cell_type": "code",
   "execution_count": 6,
   "id": "454fdd1234020ae3",
   "metadata": {
    "ExecuteTime": {
     "end_time": "2024-09-12T10:22:02.778485Z",
     "start_time": "2024-09-12T10:22:02.636873Z"
    }
   },
   "outputs": [
    {
     "name": "stdout",
     "output_type": "stream",
     "text": [
      "{'-': 0, '(': 1, ')': 2, '+': 3, '=': 4, '\\\\times': 5, '0': 6, '1': 7, '2': 8, '3': 9, '4': 10, '5': 11, '6': 12, '7': 13, '8': 14, '9': 15, '\\\\div': 16, 'y': 17, 'x': 18, 'c': 19, 'm': 20}\n",
      "{'-': 0, '(': 1, ')': 2, '+': 3, '=': 4, '\\\\times': 5, '0': 6, '1': 7, '2': 8, '3': 9, '4': 10, '5': 11, '6': 12, '7': 13, '8': 14, '9': 15, '\\\\div': 16, 'y': 17, 'x': 18, 'c': 19, 'm': 20}\n",
      "21 21\n",
      "['(' ')' '+' '-' '0' '1' '2' '3' '4' '5' '6' '7' '8' '9' '=' '\\\\div'\n",
      " '\\\\times' 'c' 'm' 'x' 'y']\n"
     ]
    }
   ],
   "source": [
    "# create dictionary to encode symbol name as numbers\n",
    "dic_list = [v for k, v in dic.items()]\n",
    "latexToNums = {k: v for v, k in enumerate(dic_list)}\n",
    "numsToLatex = {v: k for v, k in enumerate(dic_list)}\n",
    "\n",
    "print(latexToNums)\n",
    "print(latexToNums)\n",
    "print(len(dic), len(latexToNums))\n",
    "print(np.unique(labels))"
   ]
  },
  {
   "cell_type": "code",
   "execution_count": 7,
   "id": "18e8f41e",
   "metadata": {},
   "outputs": [],
   "source": [
    "\n",
    "# defining augmentation function\n",
    "def augment_erode_iterations(image, label, kernel_size):\n",
    "  img = image\n",
    "\n",
    "  # eroding image to add line tickness\n",
    "  kernel = np.ones((kernel_size, kernel_size), np.uint8)\n",
    "  img = cv2.erode(img, kernel)\n",
    "\n",
    "  return img, label \n",
    "\n"
   ]
  },
  {
   "cell_type": "code",
   "execution_count": 8,
   "id": "1d660b113f7aef4d",
   "metadata": {
    "ExecuteTime": {
     "end_time": "2024-09-12T10:22:15.248856Z",
     "start_time": "2024-09-12T10:22:10.199131Z"
    }
   },
   "outputs": [
    {
     "name": "stdout",
     "output_type": "stream",
     "text": [
      "x_train shape: (27963, 45, 45, 1)\n",
      "x_test shape: (13773, 45, 45, 1)\n",
      "y_train_cat shape: (27963, 21)\n",
      "y_test shape: (13773, 21)\n"
     ]
    }
   ],
   "source": [
    "# defining input shape and number of classes\n",
    "input_shape = (45, 45, 1) \n",
    "num_classes = 21\n",
    "\n",
    "# imgs and labels \n",
    "imgs_augmented = []\n",
    "labels_augmented = []\n",
    "\n",
    "# iterating through all images in the dataset\n",
    "for i in range(len(imgs)):\n",
    "    # two types of line thickness\n",
    "    img_erode_1, label_1 = augment_erode_iterations(imgs[i], labels[i], 3)\n",
    "\n",
    "\n",
    "    # appending to augmented dataset\n",
    "    imgs_augmented.append(imgs[i])\n",
    "    imgs_augmented.append(img_erode_1)\n",
    "\n",
    "    \n",
    "    # labels are the same for different augmentations \n",
    "    labels_augmented.append(labels[i])\n",
    "    labels_augmented.append(label_1)\n",
    "\n",
    "# splitting data in training and testing data\n",
    "x_train, x_test, y_train, y_test = train_test_split(imgs_augmented, labels_augmented, test_size=0.33, stratify=labels_augmented, random_state=42)\n",
    "\n",
    "\n",
    "# Convert data into np arrays\n",
    "x_train = np.array(x_train)\n",
    "x_test = np.array(x_test)\n",
    "\n",
    "# Scale images to the [0, 1] range\n",
    "x_train = x_train.astype(\"float32\") / 255\n",
    "x_test = x_test.astype(\"float32\") / 255\n",
    "\n",
    "\n",
    "# Make sure images have shape (28, 28, 1)\n",
    "x_train = np.expand_dims(x_train, -1)\n",
    "x_test = np.expand_dims(x_test, -1)\n",
    "\n",
    "\n",
    "# converting latex representation to numerical representation\n",
    "y_train_nums = [latexToNums[item] for item in y_train]\n",
    "y_test_nums = [latexToNums[item] for item in y_test]\n",
    "\n",
    "# convert class vectors to binary class matrices\n",
    "y_train_nums = [latexToNums[item] for item in y_train]\n",
    "y_test_nums = [latexToNums[item] for item in y_test]\n",
    "\n",
    "y_train_cat = keras.utils.to_categorical(y_train_nums, num_classes)\n",
    "y_test_cat = keras.utils.to_categorical(y_test_nums, num_classes)\n",
    "\n",
    "\n",
    "print(\"x_train shape:\", x_train.shape)\n",
    "print(\"x_test shape:\", x_test.shape)\n",
    "print(\"y_train_cat shape:\", y_train_cat.shape)\n",
    "print(\"y_test shape:\", y_test_cat.shape)\n",
    "\n"
   ]
  },
  {
   "cell_type": "code",
   "execution_count": 9,
   "id": "daf52622bbb35f38",
   "metadata": {
    "ExecuteTime": {
     "end_time": "2024-09-12T10:22:24.301149Z",
     "start_time": "2024-09-12T10:22:23.990175Z"
    }
   },
   "outputs": [],
   "source": [
    "model = keras.Sequential(\n",
    "    \n",
    "    [\n",
    "        keras.Input(shape=input_shape),\n",
    "        layers.Conv2D(32, kernel_size=(3, 3), activation=\"relu\"),\n",
    "        layers.MaxPooling2D(pool_size=(2, 2)),\n",
    "        layers.Conv2D(64, kernel_size=(3, 3), activation=\"relu\"),\n",
    "        layers.MaxPooling2D(pool_size=(2, 2)),\n",
    "        layers.Flatten(),\n",
    "        layers.Dropout(0.5),\n",
    "        layers.Dense(num_classes, activation=\"softmax\"),\n",
    "    ]\n",
    ")\n"
   ]
  },
  {
   "cell_type": "code",
   "execution_count": 10,
   "id": "3b8d65fd54a25b1a",
   "metadata": {
    "ExecuteTime": {
     "end_time": "2024-09-10T22:39:37.134684Z",
     "start_time": "2024-09-10T22:39:37.119224Z"
    }
   },
   "outputs": [
    {
     "data": {
      "text/html": [
       "<pre style=\"white-space:pre;overflow-x:auto;line-height:normal;font-family:Menlo,'DejaVu Sans Mono',consolas,'Courier New',monospace\"><span style=\"font-weight: bold\">Model: \"sequential\"</span>\n",
       "</pre>\n"
      ],
      "text/plain": [
       "\u001b[1mModel: \"sequential\"\u001b[0m\n"
      ]
     },
     "metadata": {},
     "output_type": "display_data"
    },
    {
     "data": {
      "text/html": [
       "<pre style=\"white-space:pre;overflow-x:auto;line-height:normal;font-family:Menlo,'DejaVu Sans Mono',consolas,'Courier New',monospace\">┏━━━━━━━━━━━━━━━━━━━━━━━━━━━━━━━━━┳━━━━━━━━━━━━━━━━━━━━━━━━┳━━━━━━━━━━━━━━━┓\n",
       "┃<span style=\"font-weight: bold\"> Layer (type)                    </span>┃<span style=\"font-weight: bold\"> Output Shape           </span>┃<span style=\"font-weight: bold\">       Param # </span>┃\n",
       "┡━━━━━━━━━━━━━━━━━━━━━━━━━━━━━━━━━╇━━━━━━━━━━━━━━━━━━━━━━━━╇━━━━━━━━━━━━━━━┩\n",
       "│ conv2d (<span style=\"color: #0087ff; text-decoration-color: #0087ff\">Conv2D</span>)                 │ (<span style=\"color: #00d7ff; text-decoration-color: #00d7ff\">None</span>, <span style=\"color: #00af00; text-decoration-color: #00af00\">43</span>, <span style=\"color: #00af00; text-decoration-color: #00af00\">43</span>, <span style=\"color: #00af00; text-decoration-color: #00af00\">32</span>)     │           <span style=\"color: #00af00; text-decoration-color: #00af00\">320</span> │\n",
       "├─────────────────────────────────┼────────────────────────┼───────────────┤\n",
       "│ max_pooling2d (<span style=\"color: #0087ff; text-decoration-color: #0087ff\">MaxPooling2D</span>)    │ (<span style=\"color: #00d7ff; text-decoration-color: #00d7ff\">None</span>, <span style=\"color: #00af00; text-decoration-color: #00af00\">21</span>, <span style=\"color: #00af00; text-decoration-color: #00af00\">21</span>, <span style=\"color: #00af00; text-decoration-color: #00af00\">32</span>)     │             <span style=\"color: #00af00; text-decoration-color: #00af00\">0</span> │\n",
       "├─────────────────────────────────┼────────────────────────┼───────────────┤\n",
       "│ conv2d_1 (<span style=\"color: #0087ff; text-decoration-color: #0087ff\">Conv2D</span>)               │ (<span style=\"color: #00d7ff; text-decoration-color: #00d7ff\">None</span>, <span style=\"color: #00af00; text-decoration-color: #00af00\">19</span>, <span style=\"color: #00af00; text-decoration-color: #00af00\">19</span>, <span style=\"color: #00af00; text-decoration-color: #00af00\">64</span>)     │        <span style=\"color: #00af00; text-decoration-color: #00af00\">18,496</span> │\n",
       "├─────────────────────────────────┼────────────────────────┼───────────────┤\n",
       "│ max_pooling2d_1 (<span style=\"color: #0087ff; text-decoration-color: #0087ff\">MaxPooling2D</span>)  │ (<span style=\"color: #00d7ff; text-decoration-color: #00d7ff\">None</span>, <span style=\"color: #00af00; text-decoration-color: #00af00\">9</span>, <span style=\"color: #00af00; text-decoration-color: #00af00\">9</span>, <span style=\"color: #00af00; text-decoration-color: #00af00\">64</span>)       │             <span style=\"color: #00af00; text-decoration-color: #00af00\">0</span> │\n",
       "├─────────────────────────────────┼────────────────────────┼───────────────┤\n",
       "│ flatten (<span style=\"color: #0087ff; text-decoration-color: #0087ff\">Flatten</span>)               │ (<span style=\"color: #00d7ff; text-decoration-color: #00d7ff\">None</span>, <span style=\"color: #00af00; text-decoration-color: #00af00\">5184</span>)           │             <span style=\"color: #00af00; text-decoration-color: #00af00\">0</span> │\n",
       "├─────────────────────────────────┼────────────────────────┼───────────────┤\n",
       "│ dropout (<span style=\"color: #0087ff; text-decoration-color: #0087ff\">Dropout</span>)               │ (<span style=\"color: #00d7ff; text-decoration-color: #00d7ff\">None</span>, <span style=\"color: #00af00; text-decoration-color: #00af00\">5184</span>)           │             <span style=\"color: #00af00; text-decoration-color: #00af00\">0</span> │\n",
       "├─────────────────────────────────┼────────────────────────┼───────────────┤\n",
       "│ dense (<span style=\"color: #0087ff; text-decoration-color: #0087ff\">Dense</span>)                   │ (<span style=\"color: #00d7ff; text-decoration-color: #00d7ff\">None</span>, <span style=\"color: #00af00; text-decoration-color: #00af00\">21</span>)             │       <span style=\"color: #00af00; text-decoration-color: #00af00\">108,885</span> │\n",
       "└─────────────────────────────────┴────────────────────────┴───────────────┘\n",
       "</pre>\n"
      ],
      "text/plain": [
       "┏━━━━━━━━━━━━━━━━━━━━━━━━━━━━━━━━━┳━━━━━━━━━━━━━━━━━━━━━━━━┳━━━━━━━━━━━━━━━┓\n",
       "┃\u001b[1m \u001b[0m\u001b[1mLayer (type)                   \u001b[0m\u001b[1m \u001b[0m┃\u001b[1m \u001b[0m\u001b[1mOutput Shape          \u001b[0m\u001b[1m \u001b[0m┃\u001b[1m \u001b[0m\u001b[1m      Param #\u001b[0m\u001b[1m \u001b[0m┃\n",
       "┡━━━━━━━━━━━━━━━━━━━━━━━━━━━━━━━━━╇━━━━━━━━━━━━━━━━━━━━━━━━╇━━━━━━━━━━━━━━━┩\n",
       "│ conv2d (\u001b[38;5;33mConv2D\u001b[0m)                 │ (\u001b[38;5;45mNone\u001b[0m, \u001b[38;5;34m43\u001b[0m, \u001b[38;5;34m43\u001b[0m, \u001b[38;5;34m32\u001b[0m)     │           \u001b[38;5;34m320\u001b[0m │\n",
       "├─────────────────────────────────┼────────────────────────┼───────────────┤\n",
       "│ max_pooling2d (\u001b[38;5;33mMaxPooling2D\u001b[0m)    │ (\u001b[38;5;45mNone\u001b[0m, \u001b[38;5;34m21\u001b[0m, \u001b[38;5;34m21\u001b[0m, \u001b[38;5;34m32\u001b[0m)     │             \u001b[38;5;34m0\u001b[0m │\n",
       "├─────────────────────────────────┼────────────────────────┼───────────────┤\n",
       "│ conv2d_1 (\u001b[38;5;33mConv2D\u001b[0m)               │ (\u001b[38;5;45mNone\u001b[0m, \u001b[38;5;34m19\u001b[0m, \u001b[38;5;34m19\u001b[0m, \u001b[38;5;34m64\u001b[0m)     │        \u001b[38;5;34m18,496\u001b[0m │\n",
       "├─────────────────────────────────┼────────────────────────┼───────────────┤\n",
       "│ max_pooling2d_1 (\u001b[38;5;33mMaxPooling2D\u001b[0m)  │ (\u001b[38;5;45mNone\u001b[0m, \u001b[38;5;34m9\u001b[0m, \u001b[38;5;34m9\u001b[0m, \u001b[38;5;34m64\u001b[0m)       │             \u001b[38;5;34m0\u001b[0m │\n",
       "├─────────────────────────────────┼────────────────────────┼───────────────┤\n",
       "│ flatten (\u001b[38;5;33mFlatten\u001b[0m)               │ (\u001b[38;5;45mNone\u001b[0m, \u001b[38;5;34m5184\u001b[0m)           │             \u001b[38;5;34m0\u001b[0m │\n",
       "├─────────────────────────────────┼────────────────────────┼───────────────┤\n",
       "│ dropout (\u001b[38;5;33mDropout\u001b[0m)               │ (\u001b[38;5;45mNone\u001b[0m, \u001b[38;5;34m5184\u001b[0m)           │             \u001b[38;5;34m0\u001b[0m │\n",
       "├─────────────────────────────────┼────────────────────────┼───────────────┤\n",
       "│ dense (\u001b[38;5;33mDense\u001b[0m)                   │ (\u001b[38;5;45mNone\u001b[0m, \u001b[38;5;34m21\u001b[0m)             │       \u001b[38;5;34m108,885\u001b[0m │\n",
       "└─────────────────────────────────┴────────────────────────┴───────────────┘\n"
      ]
     },
     "metadata": {},
     "output_type": "display_data"
    },
    {
     "data": {
      "text/html": [
       "<pre style=\"white-space:pre;overflow-x:auto;line-height:normal;font-family:Menlo,'DejaVu Sans Mono',consolas,'Courier New',monospace\"><span style=\"font-weight: bold\"> Total params: </span><span style=\"color: #00af00; text-decoration-color: #00af00\">127,701</span> (498.83 KB)\n",
       "</pre>\n"
      ],
      "text/plain": [
       "\u001b[1m Total params: \u001b[0m\u001b[38;5;34m127,701\u001b[0m (498.83 KB)\n"
      ]
     },
     "metadata": {},
     "output_type": "display_data"
    },
    {
     "data": {
      "text/html": [
       "<pre style=\"white-space:pre;overflow-x:auto;line-height:normal;font-family:Menlo,'DejaVu Sans Mono',consolas,'Courier New',monospace\"><span style=\"font-weight: bold\"> Trainable params: </span><span style=\"color: #00af00; text-decoration-color: #00af00\">127,701</span> (498.83 KB)\n",
       "</pre>\n"
      ],
      "text/plain": [
       "\u001b[1m Trainable params: \u001b[0m\u001b[38;5;34m127,701\u001b[0m (498.83 KB)\n"
      ]
     },
     "metadata": {},
     "output_type": "display_data"
    },
    {
     "data": {
      "text/html": [
       "<pre style=\"white-space:pre;overflow-x:auto;line-height:normal;font-family:Menlo,'DejaVu Sans Mono',consolas,'Courier New',monospace\"><span style=\"font-weight: bold\"> Non-trainable params: </span><span style=\"color: #00af00; text-decoration-color: #00af00\">0</span> (0.00 B)\n",
       "</pre>\n"
      ],
      "text/plain": [
       "\u001b[1m Non-trainable params: \u001b[0m\u001b[38;5;34m0\u001b[0m (0.00 B)\n"
      ]
     },
     "metadata": {},
     "output_type": "display_data"
    }
   ],
   "source": [
    "model.summary()"
   ]
  },
  {
   "cell_type": "code",
   "execution_count": 11,
   "id": "7a7a6c593a8a586d",
   "metadata": {
    "ExecuteTime": {
     "end_time": "2024-09-12T10:29:54.853795Z",
     "start_time": "2024-09-12T10:22:53.684523Z"
    }
   },
   "outputs": [
    {
     "name": "stdout",
     "output_type": "stream",
     "text": [
      "Epoch 1/20\n",
      "\u001b[1m197/197\u001b[0m \u001b[32m━━━━━━━━━━━━━━━━━━━━\u001b[0m\u001b[37m\u001b[0m \u001b[1m6s\u001b[0m 26ms/step - accuracy: 0.5371 - loss: 1.6796 - val_accuracy: 0.8513 - val_loss: 0.5514\n",
      "Epoch 2/20\n",
      "\u001b[1m197/197\u001b[0m \u001b[32m━━━━━━━━━━━━━━━━━━━━\u001b[0m\u001b[37m\u001b[0m \u001b[1m5s\u001b[0m 24ms/step - accuracy: 0.8584 - loss: 0.4719 - val_accuracy: 0.9035 - val_loss: 0.3167\n",
      "Epoch 3/20\n",
      "\u001b[1m197/197\u001b[0m \u001b[32m━━━━━━━━━━━━━━━━━━━━\u001b[0m\u001b[37m\u001b[0m \u001b[1m5s\u001b[0m 25ms/step - accuracy: 0.9094 - loss: 0.2994 - val_accuracy: 0.9213 - val_loss: 0.2500\n",
      "Epoch 4/20\n",
      "\u001b[1m197/197\u001b[0m \u001b[32m━━━━━━━━━━━━━━━━━━━━\u001b[0m\u001b[37m\u001b[0m \u001b[1m5s\u001b[0m 24ms/step - accuracy: 0.9302 - loss: 0.2318 - val_accuracy: 0.9399 - val_loss: 0.1969\n",
      "Epoch 5/20\n",
      "\u001b[1m197/197\u001b[0m \u001b[32m━━━━━━━━━━━━━━━━━━━━\u001b[0m\u001b[37m\u001b[0m \u001b[1m5s\u001b[0m 23ms/step - accuracy: 0.9364 - loss: 0.2020 - val_accuracy: 0.9467 - val_loss: 0.1668\n",
      "Epoch 6/20\n",
      "\u001b[1m197/197\u001b[0m \u001b[32m━━━━━━━━━━━━━━━━━━━━\u001b[0m\u001b[37m\u001b[0m \u001b[1m5s\u001b[0m 25ms/step - accuracy: 0.9468 - loss: 0.1674 - val_accuracy: 0.9510 - val_loss: 0.1593\n",
      "Epoch 7/20\n",
      "\u001b[1m197/197\u001b[0m \u001b[32m━━━━━━━━━━━━━━━━━━━━\u001b[0m\u001b[37m\u001b[0m \u001b[1m5s\u001b[0m 25ms/step - accuracy: 0.9515 - loss: 0.1490 - val_accuracy: 0.9571 - val_loss: 0.1380\n",
      "Epoch 8/20\n",
      "\u001b[1m197/197\u001b[0m \u001b[32m━━━━━━━━━━━━━━━━━━━━\u001b[0m\u001b[37m\u001b[0m \u001b[1m5s\u001b[0m 24ms/step - accuracy: 0.9576 - loss: 0.1318 - val_accuracy: 0.9560 - val_loss: 0.1377\n",
      "Epoch 9/20\n",
      "\u001b[1m197/197\u001b[0m \u001b[32m━━━━━━━━━━━━━━━━━━━━\u001b[0m\u001b[37m\u001b[0m \u001b[1m5s\u001b[0m 23ms/step - accuracy: 0.9596 - loss: 0.1256 - val_accuracy: 0.9610 - val_loss: 0.1216\n",
      "Epoch 10/20\n",
      "\u001b[1m197/197\u001b[0m \u001b[32m━━━━━━━━━━━━━━━━━━━━\u001b[0m\u001b[37m\u001b[0m \u001b[1m5s\u001b[0m 25ms/step - accuracy: 0.9647 - loss: 0.1059 - val_accuracy: 0.9685 - val_loss: 0.1154\n",
      "Epoch 11/20\n",
      "\u001b[1m197/197\u001b[0m \u001b[32m━━━━━━━━━━━━━━━━━━━━\u001b[0m\u001b[37m\u001b[0m \u001b[1m5s\u001b[0m 24ms/step - accuracy: 0.9675 - loss: 0.1007 - val_accuracy: 0.9678 - val_loss: 0.1177\n",
      "Epoch 12/20\n",
      "\u001b[1m197/197\u001b[0m \u001b[32m━━━━━━━━━━━━━━━━━━━━\u001b[0m\u001b[37m\u001b[0m \u001b[1m5s\u001b[0m 24ms/step - accuracy: 0.9679 - loss: 0.1042 - val_accuracy: 0.9664 - val_loss: 0.1089\n",
      "Epoch 13/20\n",
      "\u001b[1m197/197\u001b[0m \u001b[32m━━━━━━━━━━━━━━━━━━━━\u001b[0m\u001b[37m\u001b[0m \u001b[1m5s\u001b[0m 23ms/step - accuracy: 0.9688 - loss: 0.0950 - val_accuracy: 0.9721 - val_loss: 0.1045\n",
      "Epoch 14/20\n",
      "\u001b[1m197/197\u001b[0m \u001b[32m━━━━━━━━━━━━━━━━━━━━\u001b[0m\u001b[37m\u001b[0m \u001b[1m5s\u001b[0m 23ms/step - accuracy: 0.9743 - loss: 0.0798 - val_accuracy: 0.9653 - val_loss: 0.1108\n",
      "Epoch 15/20\n",
      "\u001b[1m197/197\u001b[0m \u001b[32m━━━━━━━━━━━━━━━━━━━━\u001b[0m\u001b[37m\u001b[0m \u001b[1m5s\u001b[0m 23ms/step - accuracy: 0.9734 - loss: 0.0799 - val_accuracy: 0.9710 - val_loss: 0.1051\n",
      "Epoch 16/20\n",
      "\u001b[1m197/197\u001b[0m \u001b[32m━━━━━━━━━━━━━━━━━━━━\u001b[0m\u001b[37m\u001b[0m \u001b[1m4s\u001b[0m 23ms/step - accuracy: 0.9750 - loss: 0.0744 - val_accuracy: 0.9700 - val_loss: 0.1029\n",
      "Epoch 17/20\n",
      "\u001b[1m197/197\u001b[0m \u001b[32m━━━━━━━━━━━━━━━━━━━━\u001b[0m\u001b[37m\u001b[0m \u001b[1m5s\u001b[0m 23ms/step - accuracy: 0.9765 - loss: 0.0698 - val_accuracy: 0.9614 - val_loss: 0.1290\n",
      "Epoch 18/20\n",
      "\u001b[1m197/197\u001b[0m \u001b[32m━━━━━━━━━━━━━━━━━━━━\u001b[0m\u001b[37m\u001b[0m \u001b[1m5s\u001b[0m 24ms/step - accuracy: 0.9764 - loss: 0.0696 - val_accuracy: 0.9739 - val_loss: 0.0959\n",
      "Epoch 19/20\n",
      "\u001b[1m197/197\u001b[0m \u001b[32m━━━━━━━━━━━━━━━━━━━━\u001b[0m\u001b[37m\u001b[0m \u001b[1m5s\u001b[0m 23ms/step - accuracy: 0.9780 - loss: 0.0635 - val_accuracy: 0.9760 - val_loss: 0.0891\n",
      "Epoch 20/20\n",
      "\u001b[1m197/197\u001b[0m \u001b[32m━━━━━━━━━━━━━━━━━━━━\u001b[0m\u001b[37m\u001b[0m \u001b[1m5s\u001b[0m 23ms/step - accuracy: 0.9794 - loss: 0.0592 - val_accuracy: 0.9760 - val_loss: 0.0907\n",
      "dict_keys(['accuracy', 'loss', 'val_accuracy', 'val_loss'])\n"
     ]
    }
   ],
   "source": [
    "batch_size = 128\n",
    "epochs =20\n",
    "\n",
    "model.compile(loss=\"categorical_crossentropy\", optimizer=\"adam\", metrics=[\"accuracy\"])\n",
    "history = model.fit(x_train, y_train_cat, batch_size=batch_size, epochs=epochs, validation_split=0.1)\n",
    "\n",
    "print(history.history.keys())"
   ]
  },
  {
   "cell_type": "code",
   "execution_count": 12,
   "id": "129171163c5cec5f",
   "metadata": {
    "ExecuteTime": {
     "end_time": "2024-09-12T10:29:58.144137Z",
     "start_time": "2024-09-12T10:29:57.875396Z"
    }
   },
   "outputs": [
    {
     "data": {
      "image/png": "[encoded data removed]",
      "text/plain": [
       "<Figure size 640x480 with 1 Axes>"
      ]
     },
     "metadata": {},
     "output_type": "display_data"
    },
    {
     "data": {
      "image/png": "[encoded data removed]",
      "text/plain": [
       "<Figure size 640x480 with 1 Axes>"
      ]
     },
     "metadata": {},
     "output_type": "display_data"
    }
   ],
   "source": [
    "\n",
    "plt.plot(history.history['accuracy'])\n",
    "plt.plot(history.history['val_accuracy'])\n",
    "plt.title('model accuracy')\n",
    "plt.ylabel('accuracy')\n",
    "plt.xlabel('epoch')\n",
    "plt.legend(['train', 'test'], loc='upper left')\n",
    "plt.show()\n",
    "\n",
    "# summarize history for loss\n",
    "plt.plot(history.history['loss'])\n",
    "plt.plot(history.history['val_loss'])\n",
    "plt.title('model loss')\n",
    "plt.ylabel('loss')\n",
    "plt.xlabel('epoch')\n",
    "plt.legend(['train', 'test'], loc='upper left')\n",
    "plt.show()"
   ]
  },
  {
   "cell_type": "code",
   "execution_count": 13,
   "id": "e3c3932e14cfb9fe",
   "metadata": {
    "ExecuteTime": {
     "end_time": "2024-09-12T11:01:18.313911Z",
     "start_time": "2024-09-12T11:01:09.757765Z"
    }
   },
   "outputs": [
    {
     "name": "stdout",
     "output_type": "stream",
     "text": [
      "\u001b[1m1/1\u001b[0m \u001b[32m━━━━━━━━━━━━━━━━━━━━\u001b[0m\u001b[37m\u001b[0m \u001b[1m0s\u001b[0m 74ms/step\n",
      "\u001b[1m1/1\u001b[0m \u001b[32m━━━━━━━━━━━━━━━━━━━━\u001b[0m\u001b[37m\u001b[0m \u001b[1m0s\u001b[0m 34ms/step\n",
      "\u001b[1m1/1\u001b[0m \u001b[32m━━━━━━━━━━━━━━━━━━━━\u001b[0m\u001b[37m\u001b[0m \u001b[1m0s\u001b[0m 31ms/step\n",
      "\u001b[1m1/1\u001b[0m \u001b[32m━━━━━━━━━━━━━━━━━━━━\u001b[0m\u001b[37m\u001b[0m \u001b[1m0s\u001b[0m 29ms/step\n",
      "\u001b[1m1/1\u001b[0m \u001b[32m━━━━━━━━━━━━━━━━━━━━\u001b[0m\u001b[37m\u001b[0m \u001b[1m0s\u001b[0m 29ms/step\n",
      "\u001b[1m1/1\u001b[0m \u001b[32m━━━━━━━━━━━━━━━━━━━━\u001b[0m\u001b[37m\u001b[0m \u001b[1m0s\u001b[0m 25ms/step\n"
     ]
    },
    {
     "data": {
      "image/png": "[encoded data removed]",
      "text/plain": [
       "<Figure size 300x300 with 6 Axes>"
      ]
     },
     "metadata": {},
     "output_type": "display_data"
    }
   ],
   "source": [
    "import math \n",
    "n = 6\n",
    "s = math.ceil(math.sqrt(n))\n",
    "# score = model.evaluate(x_test, y_test_cat, verbose=0)\n",
    "# print(\"Test loss:\", score[0])\n",
    "# print(\"Test accuracy:\", score[1])\n",
    "\n",
    "#testing match between data and labels\n",
    "\n",
    "plt.figure(figsize=(s, s))\n",
    "\n",
    "\n",
    "for i in range(n):\n",
    "    ax = plt.subplot(s, s, i + 1)\n",
    "    j = i+ 300\n",
    "    \n",
    "    y_pred = model.predict(tf.expand_dims(x_test[j], axis=0))\n",
    "    plt.imshow(x_test[j])\n",
    "    plt.title(numsToLatex[y_pred.argmax(axis=-1)[0]])\n",
    "    plt.axis('off')\n",
    "\n",
    "\n"
   ]
  },
  {
   "cell_type": "code",
   "execution_count": 19,
   "id": "39f9bba710a8f90e",
   "metadata": {
    "ExecuteTime": {
     "end_time": "2024-09-12T10:46:18.191853Z",
     "start_time": "2024-09-12T10:46:18.086843Z"
    }
   },
   "outputs": [],
   "source": [
    "model.save(r'models\\test_set_1_classification_augmented.keras')"
   ]
  }
 ],
 "metadata": {
  "kernelspec": {
   "display_name": ".venv",
   "language": "python",
   "name": "python3"
  },
  "language_info": {
   "codemirror_mode": {
    "name": "ipython",
    "version": 3
   },
   "file_extension": ".py",
   "mimetype": "text/x-python",
   "name": "python",
   "nbconvert_exporter": "python",
   "pygments_lexer": "ipython3",
   "version": "3.12.7"
  }
 },
 "nbformat": 4,
 "nbformat_minor": 5
}
