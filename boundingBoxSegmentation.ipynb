{
 "cells": [
  {
   "cell_type": "markdown",
   "id": "5411b4720bb6240c",
   "metadata": {},
   "source": [
    "sources: https://stackoverflow.com/questions/61297312/finding-the-bounding-boxes-of-different-symbols-letters"
   ]
  },
  {
   "cell_type": "code",
   "execution_count": 1,
   "id": "initial_id",
   "metadata": {
    "ExecuteTime": {
     "end_time": "2024-09-26T10:42:07.049371Z",
     "start_time": "2024-09-26T10:42:07.042959Z"
    },
    "collapsed": true
   },
   "outputs": [],
   "source": [
    "import numpy as np\n",
    "import keras\n",
    "from keras import layers\n",
    "import cv2\n",
    "import pickle\n",
    "import os\n",
    "\n",
    "from matplotlib import pyplot as plt\n",
    "from pygments.formatters import img"
   ]
  },
  {
   "cell_type": "markdown",
   "id": "c6327907dfc5b3fd",
   "metadata": {},
   "source": [
    "# Segmentation using bounding boxes\n"
   ]
  },
  {
   "cell_type": "code",
   "execution_count": 33,
   "id": "3763b7a0d3db5c9a",
   "metadata": {
    "ExecuteTime": {
     "end_time": "2024-09-26T10:42:09.429957Z",
     "start_time": "2024-09-26T10:42:09.422695Z"
    }
   },
   "outputs": [],
   "source": [
    "def find_bboxes(img):\n",
    "    bboxes = []\n",
    "    \n",
    "    # store state of img after each stage\n",
    "    img_stages = []\n",
    "    \n",
    "    #turn image into grayscale\n",
    "    gray = cv2.cvtColor(img, cv2.COLOR_BGR2GRAY)\n",
    "    img_stages.append(gray)\n",
    "    \n",
    "    #binarisation\n",
    "    ret, binary_inv = cv2.threshold(gray, 150, 255, cv2.THRESH_BINARY_INV)\n",
    "    img_stages.append(binary_inv)\n",
    "\n",
    "    #dilation\n",
    "    kernel_dilate = np.ones((3,3), np.uint8)\n",
    "    imgDilate = cv2.dilate(binary_inv, kernel_dilate, iterations=5)\n",
    "    img_stages.append(imgDilate)\n",
    "    \n",
    "    #finding contours\n",
    "    contours, _ = cv2.findContours(imgDilate, cv2.RETR_TREE, cv2.CHAIN_APPROX_SIMPLE)\n",
    "    \n",
    "    #find bboxes    \n",
    "    for contour in contours:\n",
    "        bbox = cv2.boundingRect(contour)\n",
    "        bboxes.append(bbox)\n",
    "            \n",
    "    #draw bbox on img\n",
    "    bbox_img = img.copy()\n",
    "    for bbox in bboxes:\n",
    "        x, y, w, h = bbox\n",
    "        start_point = (x, y)\n",
    "        end_point = (x + w, y + h)\n",
    "        cv2.rectangle(bbox_img, start_point, end_point, (0, 255, 0), 2)\n",
    "    \n",
    "    img_stages.append(bbox_img) \n",
    "    \n",
    "    return bboxes, img_stages\n",
    "\n",
    "def load_equations(dir):\n",
    "    imgs = []\n",
    "    for imgName in os.listdir(dir):\n",
    "        img = cv2.imread(os.path.join(dir, imgName), cv2.COLOR_BGR2GRAY)\n",
    "        imgs.append(img)\n",
    "    \n",
    "    return imgs\n",
    "\n",
    "def IntersectionOverArea(bbox1, bbox2):\n",
    "    #finding top left and bottom right corner of first bbox\n",
    "    x1, y1, w1, h1 = bbox1\n",
    "    A1 = (x1, y1)\n",
    "    B1 = (x1 + w1, y1 + h1)\n",
    "\n",
    "    #finding top left and bottom right corner of the second bbox\n",
    "    x2, y2, w2, h2 = bbox2\n",
    "    A2 = (x2, y2)\n",
    "    B2 = (x2 + w2, y2 + h2)\n",
    "\n",
    "    # Intersection over Union\n",
    "    # Area of intersection\n",
    "    # _____________________ x\n",
    "    # | \n",
    "    # |  A1\n",
    "    # |\n",
    "    # |\n",
    "    # |      A2\n",
    "    # |         B1\n",
    "    # |\n",
    "    # |                 B2\n",
    "    # y\n",
    "\n",
    "    # x determine the (x, y)-coordinates of the intersection rectangle\n",
    "    xA = max(A1[0], A2[0])\n",
    "    yA = max(A1[1], A2[1])\n",
    "    xB = min(B1[0], B2[0])\n",
    "    yB = min(B1[1], B2[1])\n",
    "\n",
    "    # area of the intersection rectangle\n",
    "    \n",
    "    interArea = max(0, xB-xA+1) * max(0, yB-yA+1)\n",
    "\n",
    "    # area of the first input box\n",
    "    Area1 = (B1[0] - A1[0] +1)*(B1[1] - A1[1]+1)\n",
    "\n",
    "    # area of intersection/area of box1\n",
    "    IoA = interArea/float(Area1)\n",
    "    return IoA\n",
    "\n",
    "\n",
    "def orderBboxesByX(bboxes):\n",
    "    return sorted(bboxes, key=lambda x: x[0])\n",
    "\n",
    "def removeBBoxOverlap(bboxes):\n",
    "\n",
    "    arrayLen = len(bboxes)\n",
    "\n",
    "    noOverlapBBoxes = bboxes.copy()\n",
    "\n",
    "\n",
    "    # iterate through all bounding box combinations \n",
    "    # improvement: use x coordinate and width and y coordinate and height \n",
    "    # to check for possible overlaps\n",
    "    for i in range(arrayLen):\n",
    "        for j in range(arrayLen):\n",
    "            if j == i:\n",
    "                pass\n",
    "            else:\n",
    "                IoA = IntersectionOverArea(bboxes[i], bboxes[j])\n",
    "                if IoA > 0.8:\n",
    "                    try:\n",
    "                        noOverlapBBoxes.remove(bboxes[i])\n",
    "                    except:\n",
    "                        pass\n",
    "    print(len(noOverlapBBoxes))\n",
    "    return noOverlapBBoxes\n",
    "\n",
    "\n",
    "\n",
    "def visualiseBBoxes(img, bboxes):\n",
    "\n",
    "    #draw bbox on img\n",
    "    bbox_img = img.copy()\n",
    "    print(bboxes)\n",
    "\n",
    "    for i, bbox in enumerate(bboxes):\n",
    "        x, y, w, h = bbox\n",
    "        start_point = (x, y)\n",
    "        end_point = (x + w, y + h)\n",
    "        cv2.rectangle(bbox_img, start_point, end_point, (0, 255, 0), 2)\n",
    "        cv2.putText(bbox_img, str(i), (start_point[0], start_point[1]-10), cv2.FONT_HERSHEY_SIMPLEX, 0.9, (36,255,12), 2)\n",
    "\n",
    "    return bbox_img\n",
    "\n",
    "\n",
    "\n",
    "\n",
    "\n"
   ]
  },
  {
   "cell_type": "code",
   "execution_count": 42,
   "id": "8cbca038be56c828",
   "metadata": {
    "ExecuteTime": {
     "end_time": "2024-09-26T10:42:15.261943Z",
     "start_time": "2024-09-26T10:42:14.509968Z"
    }
   },
   "outputs": [
    {
     "name": "stdout",
     "output_type": "stream",
     "text": [
      "9\n",
      "[(132, 40, 238, 411), (408, 321, 34, 39), (511, 197, 50, 229), (566, 309, 29, 40), (655, 201, 155, 209), (908, 265, 113, 51), (1038, 272, 29, 39), (1096, 211, 49, 172), (1205, 226, 58, 262)]\n"
     ]
    },
    {
     "data": {
      "text/plain": [
       "<matplotlib.image.AxesImage at 0x1f5115244d0>"
      ]
     },
     "execution_count": 42,
     "metadata": {},
     "output_type": "execute_result"
    },
    {
     "data": {
      "image/png": "[encoded data removed]",
      "text/plain": [
       "<Figure size 640x480 with 1 Axes>"
      ]
     },
     "metadata": {},
     "output_type": "display_data"
    }
   ],
   "source": [
    "imgs = load_equations(r\"C:\\Users\\b_wen\\PythonProjects\\HandMtoLat\\test_equations\")\n",
    "img = imgs[3]\n",
    "bboxes, img_stages = find_bboxes(img)\n",
    "# display all images \n",
    "\n",
    "# plt.figure(figsize=(20,10))\n",
    "# columns = 4\n",
    "\n",
    "# for i, image in enumerate(img_stages):\n",
    "#     plt.subplot(int(len(img_stages) / columns + 1), columns, i + 1)\n",
    "#     plt.title(i)\n",
    "#     plt.imshow(image)\n",
    "\n",
    "\n",
    "plt.figure()\n",
    "symbolBBoxes = removeBBoxOverlap(bboxes)\n",
    "orderdSymbolBBoxes = orderBboxesByX(symbolBBoxes)\n",
    "plt.imshow(visualiseBBoxes(img, orderdSymbolBBoxes))\n",
    "\n",
    "\n",
    "#currently only works on dark text to light background\n",
    "# \n"
   ]
  },
  {
   "cell_type": "markdown",
   "id": "9027fa75481804ad",
   "metadata": {},
   "source": [
    "# Structural analysis"
   ]
  },
  {
   "cell_type": "code",
   "execution_count": null,
   "id": "5cbd9f97a2a9251f",
   "metadata": {},
   "outputs": [],
   "source": []
  }
 ],
 "metadata": {
  "kernelspec": {
   "display_name": ".venv",
   "language": "python",
   "name": "python3"
  },
  "language_info": {
   "codemirror_mode": {
    "name": "ipython",
    "version": 3
   },
   "file_extension": ".py",
   "mimetype": "text/x-python",
   "name": "python",
   "nbconvert_exporter": "python",
   "pygments_lexer": "ipython3",
   "version": "3.12.7"
  }
 },
 "nbformat": 4,
 "nbformat_minor": 5
}
